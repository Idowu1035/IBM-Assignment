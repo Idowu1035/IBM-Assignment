{
 "cells": [
  {
   "cell_type": "markdown",
   "id": "5a1ce432",
   "metadata": {},
   "source": [
    "My Jupyter Notebook on IBM Watson Studio"
   ]
  },
  {
   "cell_type": "markdown",
   "id": "48debea9",
   "metadata": {},
   "source": [
    "**Idowu A. Sunday**\n",
    "Data Analyst"
   ]
  },
  {
   "cell_type": "markdown",
   "id": "0455b7a5",
   "metadata": {},
   "source": [
    "I am interested in data science because the world revolve data and understanding data can help solve many problem even in nearest future\n",
    "I am interested in data science because i like to analyse data and algorithms, it sounds interesting"
   ]
  },
  {
   "cell_type": "markdown",
   "id": "f2eec7fb",
   "metadata": {},
   "source": [
    "# H3  My code in cell 4 will multiply 3 by 5"
   ]
  },
  {
   "cell_type": "markdown",
   "id": "3640b7fc",
   "metadata": {},
   "source": [
    "3*5"
   ]
  },
  {
   "cell_type": "markdown",
   "id": "c6085500",
   "metadata": {},
   "source": [
    "1. First ordered list item\n",
    "2. Another item\n",
    "  * Unordered sub-list. \n",
    "1. Actual numbers don't matter, just that it's a number\n",
    "  1. Ordered sub-list\n",
    "4. And another item.,  \n",
    "   \n",
    "   \n",
    "   \n",
    "   \n",
    "   \n",
    "   \n",
    "   \n",
    "   \n",
    "   \n",
    "   \n",
    "URLs and URLs in angle brackets will automatically get turned into links. http://www.example.com or http://www.example.com and sometimes example.co  /\n",
    "Tables\tAre\tCool\n",
    "col 3 is\tright-aligned\t$1600\n",
    "col 2 is\tcentered\t$12\n",
    "zebra stripes\tare neat\t$1"
   ]
  },
  {
   "cell_type": "code",
   "execution_count": null,
   "id": "92138f53",
   "metadata": {},
   "outputs": [],
   "source": []
  }
 ],
 "metadata": {
  "kernelspec": {
   "display_name": "Python 3 (ipykernel)",
   "language": "python",
   "name": "python3"
  },
  "language_info": {
   "codemirror_mode": {
    "name": "ipython",
    "version": 3
   },
   "file_extension": ".py",
   "mimetype": "text/x-python",
   "name": "python",
   "nbconvert_exporter": "python",
   "pygments_lexer": "ipython3",
   "version": "3.9.7"
  }
 },
 "nbformat": 4,
 "nbformat_minor": 5
}
